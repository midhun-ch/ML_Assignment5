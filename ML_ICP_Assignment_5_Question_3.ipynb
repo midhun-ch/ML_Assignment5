{
 "cells": [
  {
   "cell_type": "code",
   "execution_count": 3,
   "id": "aea0ac59",
   "metadata": {},
   "outputs": [],
   "source": [
    "# importing necessary libraires for executing the code\n",
    "\n",
    "import pandas as pd\n",
    "import numpy as np\n",
    "import seaborn as sns\n",
    "from matplotlib import pyplot as plt\n",
    "from sklearn.preprocessing import StandardScaler\n",
    "from sklearn.discriminant_analysis import LinearDiscriminantAnalysis\n",
    "from sklearn.preprocessing import LabelEncoder"
   ]
  },
  {
   "cell_type": "code",
   "execution_count": 4,
   "id": "f3e4ad87",
   "metadata": {},
   "outputs": [
    {
     "data": {
      "text/html": [
       "<div>\n",
       "<style scoped>\n",
       "    .dataframe tbody tr th:only-of-type {\n",
       "        vertical-align: middle;\n",
       "    }\n",
       "\n",
       "    .dataframe tbody tr th {\n",
       "        vertical-align: top;\n",
       "    }\n",
       "\n",
       "    .dataframe thead th {\n",
       "        text-align: right;\n",
       "    }\n",
       "</style>\n",
       "<table border=\"1\" class=\"dataframe\">\n",
       "  <thead>\n",
       "    <tr style=\"text-align: right;\">\n",
       "      <th></th>\n",
       "      <th>Id</th>\n",
       "      <th>SepalLengthCm</th>\n",
       "      <th>SepalWidthCm</th>\n",
       "      <th>PetalLengthCm</th>\n",
       "      <th>PetalWidthCm</th>\n",
       "      <th>Species</th>\n",
       "    </tr>\n",
       "  </thead>\n",
       "  <tbody>\n",
       "    <tr>\n",
       "      <th>0</th>\n",
       "      <td>1</td>\n",
       "      <td>5.1</td>\n",
       "      <td>3.5</td>\n",
       "      <td>1.4</td>\n",
       "      <td>0.2</td>\n",
       "      <td>Iris-setosa</td>\n",
       "    </tr>\n",
       "    <tr>\n",
       "      <th>1</th>\n",
       "      <td>2</td>\n",
       "      <td>4.9</td>\n",
       "      <td>3.0</td>\n",
       "      <td>1.4</td>\n",
       "      <td>0.2</td>\n",
       "      <td>Iris-setosa</td>\n",
       "    </tr>\n",
       "    <tr>\n",
       "      <th>2</th>\n",
       "      <td>3</td>\n",
       "      <td>4.7</td>\n",
       "      <td>3.2</td>\n",
       "      <td>1.3</td>\n",
       "      <td>0.2</td>\n",
       "      <td>Iris-setosa</td>\n",
       "    </tr>\n",
       "    <tr>\n",
       "      <th>3</th>\n",
       "      <td>4</td>\n",
       "      <td>4.6</td>\n",
       "      <td>3.1</td>\n",
       "      <td>1.5</td>\n",
       "      <td>0.2</td>\n",
       "      <td>Iris-setosa</td>\n",
       "    </tr>\n",
       "    <tr>\n",
       "      <th>4</th>\n",
       "      <td>5</td>\n",
       "      <td>5.0</td>\n",
       "      <td>3.6</td>\n",
       "      <td>1.4</td>\n",
       "      <td>0.2</td>\n",
       "      <td>Iris-setosa</td>\n",
       "    </tr>\n",
       "  </tbody>\n",
       "</table>\n",
       "</div>"
      ],
      "text/plain": [
       "   Id  SepalLengthCm  SepalWidthCm  PetalLengthCm  PetalWidthCm      Species\n",
       "0   1            5.1           3.5            1.4           0.2  Iris-setosa\n",
       "1   2            4.9           3.0            1.4           0.2  Iris-setosa\n",
       "2   3            4.7           3.2            1.3           0.2  Iris-setosa\n",
       "3   4            4.6           3.1            1.5           0.2  Iris-setosa\n",
       "4   5            5.0           3.6            1.4           0.2  Iris-setosa"
      ]
     },
     "execution_count": 4,
     "metadata": {},
     "output_type": "execute_result"
    }
   ],
   "source": [
    "df = pd.read_csv(\"Iris.csv\") # imprting the iris csv file into df variable\n",
    "df.head() # printing the top 5 rows of the iris dataframe"
   ]
  },
  {
   "cell_type": "code",
   "execution_count": 5,
   "id": "eb32dd68",
   "metadata": {},
   "outputs": [
    {
     "data": {
      "text/html": [
       "<div>\n",
       "<style scoped>\n",
       "    .dataframe tbody tr th:only-of-type {\n",
       "        vertical-align: middle;\n",
       "    }\n",
       "\n",
       "    .dataframe tbody tr th {\n",
       "        vertical-align: top;\n",
       "    }\n",
       "\n",
       "    .dataframe thead th {\n",
       "        text-align: right;\n",
       "    }\n",
       "</style>\n",
       "<table border=\"1\" class=\"dataframe\">\n",
       "  <thead>\n",
       "    <tr style=\"text-align: right;\">\n",
       "      <th></th>\n",
       "      <th>LD1</th>\n",
       "      <th>LD2</th>\n",
       "      <th>class</th>\n",
       "    </tr>\n",
       "  </thead>\n",
       "  <tbody>\n",
       "    <tr>\n",
       "      <th>0</th>\n",
       "      <td>9.423452</td>\n",
       "      <td>-0.513976</td>\n",
       "      <td>0</td>\n",
       "    </tr>\n",
       "    <tr>\n",
       "      <th>1</th>\n",
       "      <td>8.751900</td>\n",
       "      <td>-1.591678</td>\n",
       "      <td>0</td>\n",
       "    </tr>\n",
       "    <tr>\n",
       "      <th>2</th>\n",
       "      <td>8.973004</td>\n",
       "      <td>-1.068204</td>\n",
       "      <td>0</td>\n",
       "    </tr>\n",
       "    <tr>\n",
       "      <th>3</th>\n",
       "      <td>8.170186</td>\n",
       "      <td>-1.435135</td>\n",
       "      <td>0</td>\n",
       "    </tr>\n",
       "    <tr>\n",
       "      <th>4</th>\n",
       "      <td>9.249789</td>\n",
       "      <td>-0.136869</td>\n",
       "      <td>0</td>\n",
       "    </tr>\n",
       "  </tbody>\n",
       "</table>\n",
       "</div>"
      ],
      "text/plain": [
       "        LD1       LD2  class\n",
       "0  9.423452 -0.513976      0\n",
       "1  8.751900 -1.591678      0\n",
       "2  8.973004 -1.068204      0\n",
       "3  8.170186 -1.435135      0\n",
       "4  9.249789 -0.136869      0"
      ]
     },
     "execution_count": 5,
     "metadata": {},
     "output_type": "execute_result"
    }
   ],
   "source": [
    "stdsc = StandardScaler() # Calling the StandardScaler method to the stdsc variable\n",
    "X_train_std = stdsc.fit_transform(df.iloc[:,range(0,4)].values) # fitting the input values to the X_train_std variable\n",
    "\n",
    "class_le = LabelEncoder() # Calling the method LabelEncoder() to the class_le varaible \n",
    "y = class_le.fit_transform(df['Species'].values) # Giving the output predictable data to the variable y\n",
    "lda = LinearDiscriminantAnalysis(n_components=2) # Calling the Linear Discriminant Analysis with 2 components to lda variable\n",
    "X_train_lda = lda.fit_transform(X_train_std,y) # Training the model with X_train as input and y as output variables\n",
    "data=pd.DataFrame(X_train_lda) # Taking the input data as a dataframe  \n",
    "data['class']=y # appending the output data to the input dataframe \n",
    "data.columns=[\"LD1\",\"LD2\",\"class\"] # Renaming the col names\n",
    "data.head()  # printing the top 5 rows of the data"
   ]
  },
  {
   "cell_type": "code",
   "execution_count": 6,
   "id": "68290c30",
   "metadata": {},
   "outputs": [
    {
     "data": {
      "image/png": "[encoded data removed]",
      "text/plain": [
       "<Figure size 500x500 with 1 Axes>"
      ]
     },
     "metadata": {},
     "output_type": "display_data"
    }
   ],
   "source": [
    "# Giving the necessary information to plot the data \n",
    "markers = ['s', 'x', 'o']\n",
    "colors = ['r', 'b', 'g']\n",
    "sns.lmplot(x=\"LD1\", y=\"LD2\", data=data, hue='class', markers=markers, fit_reg=False, legend=False)\n",
    "plt.legend(loc='upper center')\n",
    "plt.show() # printing the plot"
   ]
  },
  {
   "cell_type": "code",
   "execution_count": null,
   "id": "677a537f",
   "metadata": {},
   "outputs": [],
   "source": [
    "# Question 4\n",
    "# PCA is an unsupervised learning method whereas LDA is a supervised learning method.\n",
    "#PCA is used for feature extraction and data compression, LDA is used for feature selection and classification.\n",
    "#PCA finds directions of maximum variance regardless of class labels , LDA finds directions of maximum class separability.\n",
    "#PCA focuses on capturing the direction of maximum variation in the data set, LDA focuses on finding a feature subspace that maximizes the separability between the groups."
   ]
  }
 ],
 "metadata": {
  "kernelspec": {
   "display_name": "Python 3 (ipykernel)",
   "language": "python",
   "name": "python3"
  },
  "language_info": {
   "codemirror_mode": {
    "name": "ipython",
    "version": 3
   },
   "file_extension": ".py",
   "mimetype": "text/x-python",
   "name": "python",
   "nbconvert_exporter": "python",
   "pygments_lexer": "ipython3",
   "version": "3.11.1"
  }
 },
 "nbformat": 4,
 "nbformat_minor": 5
}
