{
 "cells": [
  {
   "cell_type": "code",
   "execution_count": 1,
   "id": "f8f421f3",
   "metadata": {},
   "outputs": [],
   "source": [
    "# importing necessary libraries to be used in the code\n",
    "from sklearn.decomposition import PCA\n",
    "from sklearn.preprocessing import StandardScaler\n",
    "from sklearn.model_selection import train_test_split\n",
    "import pandas as pd\n",
    "from sklearn.linear_model import LogisticRegression\n",
    "from sklearn.metrics import accuracy_score\n",
    "import matplotlib.pyplot as plt\n",
    "import warnings\n",
    "warnings.filterwarnings('ignore')\n",
    "from sklearn.svm import SVC, LinearSVC"
   ]
  },
  {
   "cell_type": "code",
   "execution_count": 9,
   "id": "103c12d5",
   "metadata": {},
   "outputs": [
    {
     "name": "stdout",
     "output_type": "stream",
     "text": [
      "   id  gender      PPE      DFA     RPDE  numPulses  numPeriodsPulses  \\\n",
      "0   0       1  0.85247  0.71826  0.57227        240               239   \n",
      "1   0       1  0.76686  0.69481  0.53966        234               233   \n",
      "2   0       1  0.85083  0.67604  0.58982        232               231   \n",
      "3   1       0  0.41121  0.79672  0.59257        178               177   \n",
      "4   1       0  0.32790  0.79782  0.53028        236               235   \n",
      "\n",
      "   meanPeriodPulses  stdDevPeriodPulses  locPctJitter  ...  \\\n",
      "0          0.008064            0.000087       0.00218  ...   \n",
      "1          0.008258            0.000073       0.00195  ...   \n",
      "2          0.008340            0.000060       0.00176  ...   \n",
      "3          0.010858            0.000183       0.00419  ...   \n",
      "4          0.008162            0.002669       0.00535  ...   \n",
      "\n",
      "   tqwt_kurtosisValue_dec_28  tqwt_kurtosisValue_dec_29  \\\n",
      "0                     1.5620                     2.6445   \n",
      "1                     1.5589                     3.6107   \n",
      "2                     1.5643                     2.3308   \n",
      "3                     3.7805                     3.5664   \n",
      "4                     6.1727                     5.8416   \n",
      "\n",
      "   tqwt_kurtosisValue_dec_30  tqwt_kurtosisValue_dec_31  \\\n",
      "0                     3.8686                     4.2105   \n",
      "1                    23.5155                    14.1962   \n",
      "2                     9.4959                    10.7458   \n",
      "3                     5.2558                    14.0403   \n",
      "4                     6.0805                     5.7621   \n",
      "\n",
      "   tqwt_kurtosisValue_dec_32  tqwt_kurtosisValue_dec_33  \\\n",
      "0                     5.1221                     4.4625   \n",
      "1                    11.0261                     9.5082   \n",
      "2                    11.0177                     4.8066   \n",
      "3                     4.2235                     4.6857   \n",
      "4                     7.7817                    11.6891   \n",
      "\n",
      "   tqwt_kurtosisValue_dec_34  tqwt_kurtosisValue_dec_35  \\\n",
      "0                     2.6202                     3.0004   \n",
      "1                     6.5245                     6.3431   \n",
      "2                     2.9199                     3.1495   \n",
      "3                     4.8460                     6.2650   \n",
      "4                     8.2103                     5.0559   \n",
      "\n",
      "   tqwt_kurtosisValue_dec_36  class  \n",
      "0                    18.9405      1  \n",
      "1                    45.1780      1  \n",
      "2                     4.7666      1  \n",
      "3                     4.0603      1  \n",
      "4                     6.1164      1  \n",
      "\n",
      "[5 rows x 755 columns]\n",
      "(756, 755)\n",
      "1    564\n",
      "0    192\n",
      "Name: class, dtype: int64\n"
     ]
    }
   ],
   "source": [
    "df= pd.read_csv(\"pd_speech_features.csv\") # Taking the input file and storing it as a dataframe df\n",
    "print(df.head()) # Printing the top 5 rows of the dataframe \n",
    "print(df.shape) # printing the shape of the dataframe \n",
    "print(df['class'].value_counts()) # Printing the frequency of the class Column in the dataframe"
   ]
  },
  {
   "cell_type": "code",
   "execution_count": 6,
   "id": "e067192c",
   "metadata": {},
   "outputs": [],
   "source": [
    "X = df.drop('class',axis=1).values # Taking the entire dataset except class column as X \n",
    "y = df['class'].values# Taking the class column as y\n",
    "scaler = StandardScaler() # # Calling the StandardScaler method to the stdsc variable\n",
    "X_Scale = scaler.fit_transform(X) # Fitting the X data to Scaler method."
   ]
  },
  {
   "cell_type": "code",
   "execution_count": 7,
   "id": "2dcfd0ff",
   "metadata": {},
   "outputs": [
    {
     "data": {
      "text/html": [
       "<div>\n",
       "<style scoped>\n",
       "    .dataframe tbody tr th:only-of-type {\n",
       "        vertical-align: middle;\n",
       "    }\n",
       "\n",
       "    .dataframe tbody tr th {\n",
       "        vertical-align: top;\n",
       "    }\n",
       "\n",
       "    .dataframe thead th {\n",
       "        text-align: right;\n",
       "    }\n",
       "</style>\n",
       "<table border=\"1\" class=\"dataframe\">\n",
       "  <thead>\n",
       "    <tr style=\"text-align: right;\">\n",
       "      <th></th>\n",
       "      <th>principal component 1</th>\n",
       "      <th>principal component 2</th>\n",
       "      <th>principal component 3</th>\n",
       "      <th>class</th>\n",
       "    </tr>\n",
       "  </thead>\n",
       "  <tbody>\n",
       "    <tr>\n",
       "      <th>0</th>\n",
       "      <td>-10.047372</td>\n",
       "      <td>1.471077</td>\n",
       "      <td>-6.846407</td>\n",
       "      <td>1</td>\n",
       "    </tr>\n",
       "    <tr>\n",
       "      <th>1</th>\n",
       "      <td>-10.637725</td>\n",
       "      <td>1.583749</td>\n",
       "      <td>-6.830978</td>\n",
       "      <td>1</td>\n",
       "    </tr>\n",
       "    <tr>\n",
       "      <th>2</th>\n",
       "      <td>-13.516185</td>\n",
       "      <td>-1.253542</td>\n",
       "      <td>-6.818700</td>\n",
       "      <td>1</td>\n",
       "    </tr>\n",
       "    <tr>\n",
       "      <th>3</th>\n",
       "      <td>-9.155084</td>\n",
       "      <td>8.833598</td>\n",
       "      <td>15.290906</td>\n",
       "      <td>1</td>\n",
       "    </tr>\n",
       "    <tr>\n",
       "      <th>4</th>\n",
       "      <td>-6.764470</td>\n",
       "      <td>4.611464</td>\n",
       "      <td>15.637128</td>\n",
       "      <td>1</td>\n",
       "    </tr>\n",
       "  </tbody>\n",
       "</table>\n",
       "</div>"
      ],
      "text/plain": [
       "   principal component 1  principal component 2  principal component 3  class\n",
       "0             -10.047372               1.471077              -6.846407      1\n",
       "1             -10.637725               1.583749              -6.830978      1\n",
       "2             -13.516185              -1.253542              -6.818700      1\n",
       "3              -9.155084               8.833598              15.290906      1\n",
       "4              -6.764470               4.611464              15.637128      1"
      ]
     },
     "execution_count": 7,
     "metadata": {},
     "output_type": "execute_result"
    }
   ],
   "source": [
    "pca2 = PCA(n_components=3) # Calling PCA with 3 components\n",
    "principalComponents = pca2.fit_transform(X_Scale) # Fitting the X into PCA\n",
    "principalDf = pd.DataFrame(data = principalComponents, columns = ['principal component 1', 'principal component 2', 'principal component 3']) #Creating a dataframe with 3 columns for variable x\n",
    "finalDf = pd.concat([principalDf, df[['class']]], axis = 1) # Adding the variable y to the dataframe\n",
    "finalDf.head() # printing the top 5 rows of the dataframe"
   ]
  },
  {
   "cell_type": "code",
   "execution_count": 5,
   "id": "e1268afd",
   "metadata": {},
   "outputs": [
    {
     "name": "stdout",
     "output_type": "stream",
     "text": [
      "svm accuracy of Pca = 81.47\n"
     ]
    }
   ],
   "source": [
    "x_pca = finalDf[['principal component 1', 'principal component 2', 'principal component 3']] # Taking  'principal component 1', 'principal component 2', 'principal component 3' as X \n",
    "y_pca = finalDf[['class']] # Taking the class as Y\n",
    "X_train_pca, X_test_pca, y_train_pca, y_test_pca = train_test_split(x_pca,y_pca, test_size=0.3,random_state=0) # Applying Test train split to the data \n",
    "svc = SVC(max_iter=1000) # Calling SVC method to iterate over 1000 times\n",
    "svc.fit(X_train_pca, y_train_pca) # Fitting the data to the model\n",
    "Y_pred_pca = svc.predict(X_test_pca) # predicting the test data from the model\n",
    "acc_svc_pca = round(svc.score(X_train_pca,y_train_pca) * 100, 2) # Rounding of the SVC model accuracy foor PCA data\n",
    "print(\"svm accuracy of Pca =\", acc_svc_pca) # printing the accuracy of the model for pca data"
   ]
  },
  {
   "cell_type": "code",
   "execution_count": 11,
   "id": "16a5c6cd",
   "metadata": {},
   "outputs": [
    {
     "name": "stdout",
     "output_type": "stream",
     "text": [
      "svm accuracy = 91.68\n"
     ]
    }
   ],
   "source": [
    "# fINDING THE accuracy for the raw data\n",
    "X_train, X_test, y_train, y_test = train_test_split(X_Scale,y, test_size=0.3,random_state=0) # Applying Test train split to the data \n",
    "svc = SVC(max_iter=1000)  # Calling SVC method to iterate over 1000 times\n",
    "svc.fit(X_train, y_train)  # Fitting the data to the model\n",
    "Y_pred = svc.predict(X_test)   # predicting the test data from the model\n",
    "acc_svc = round(svc.score(X_train, y_train) * 100, 2)  # Rounding of the SVC model accuracy foor PCA data\n",
    "print(\"svm accuracy =\", acc_svc) # printing the accuracy of the model for pca data"
   ]
  }
 ],
 "metadata": {
  "kernelspec": {
   "display_name": "Python 3 (ipykernel)",
   "language": "python",
   "name": "python3"
  },
  "language_info": {
   "codemirror_mode": {
    "name": "ipython",
    "version": 3
   },
   "file_extension": ".py",
   "mimetype": "text/x-python",
   "name": "python",
   "nbconvert_exporter": "python",
   "pygments_lexer": "ipython3",
   "version": "3.11.1"
  }
 },
 "nbformat": 4,
 "nbformat_minor": 5
}
